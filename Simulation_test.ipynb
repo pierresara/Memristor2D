{
 "cells": [
  {
   "cell_type": "markdown",
   "metadata": {},
   "source": [
    "# Simulation par des chaînes de Markov"
   ]
  },
  {
   "cell_type": "markdown",
   "metadata": {},
   "source": [
    "## Partie théorique"
   ]
  },
  {
   "cell_type": "markdown",
   "metadata": {},
   "source": [
    "### Théorie physique"
   ]
  },
  {
   "cell_type": "markdown",
   "metadata": {},
   "source": [
    "Modus operandi : On balance $100$ électrons, on regarde leur trajectoire. On réunit si la distance de Hamming est $> 90$% de la distance totale puis garde en mémoire les chemins empruntés par au moins $x$% des électrons.\n",
    "\n",
    "Modélisation : Grille avec bruit gaussien, écart modélisé par une barrière de potentiel rectiligne égale à la moitié (la probabilité de passer est proportionnelle à la transmission). Nombre max d'itérations pour déterminer s'il est perdu.\n",
    "\n",
    "Calcul de l'intensité : La résistance est proportionnelle à la longueur des chemins\n",
    "\n",
    "Avantage des chemins : On place 80 % des électrons aléatoirement sur les chemins proportionnellement à leur poids relatif et les 20% restants sont rajoutés au début de la grille\n",
    "\n",
    "Incoming : Remplacement de la barrière avec l'expression analytique des fonctions de Bessel, ajout d'intermédiaires\n",
    "\n",
    "Résistance d'un chemin égale à sa longueur\n",
    "\n",
    "Pour les sites interstitiels : Augmenter la taille de la grille, enlever des sites et modifier le np.clip pour que les QD puissent être dans d'autres boîtes quantiques."
   ]
  },
  {
   "cell_type": "markdown",
   "metadata": {},
   "source": [
    "Progrès à envisager :\n",
    "- Tout mettre sous format de classe pour permettre une instanciation plus simple\n",
    "- Représenter les électrons sous forme de heatmaps dans les fonctions de visualisation\n",
    "- Fonction de visualisation des chemins trouvés en fonction de leur coefficientage\n",
    "- Accélérer l'affichage en plaçant tous les points à la fin\n",
    "- Refaire l'union-find pour n'utiliser que des chemins longs"
   ]
  },
  {
   "cell_type": "markdown",
   "metadata": {},
   "source": [
    "### L'implémentation dans les grandes lignes"
   ]
  },
  {
   "cell_type": "code",
   "execution_count": null,
   "metadata": {},
   "outputs": [],
   "source": []
  },
  {
   "cell_type": "markdown",
   "metadata": {},
   "source": [
    "## Initialisation de la grille"
   ]
  },
  {
   "cell_type": "markdown",
   "metadata": {},
   "source": [
    "### Constantes du problème"
   ]
  },
  {
   "cell_type": "code",
   "execution_count": 3,
   "metadata": {},
   "outputs": [],
   "source": [
    "import numpy as np\n",
    "import matplotlib.pyplot as plt\n",
    "import matplotlib.patches as patches\n",
    "from scipy.cluster.hierarchy import DisjointSet"
   ]
  },
  {
   "cell_type": "code",
   "execution_count": 4,
   "metadata": {},
   "outputs": [],
   "source": [
    "m_e = 9.10938356e-31 #en kg\n",
    "hbar = 1.0545718e-34 #en J.s\n",
    "E = 1 #en eV"
   ]
  },
  {
   "cell_type": "code",
   "execution_count": 5,
   "metadata": {},
   "outputs": [],
   "source": [
    "N = 10 # Taille de la grille\n",
    "a = 1e-9 # Taille de chaque maille élémentaire\n",
    "sigma = 0.3 #Ecart-type du bruit gaussien\n",
    "n_el_initial = 100\n",
    "n_max_chemin = 150\n",
    "# tableau_tension = np.linspace(0.,1.,10, dtype = np.float64) #Valeurs de la tension à appliquer\n",
    "# Précision de la tension : environ 34 décimales\n",
    "N_iterations = 500 # Nombre d'itérations par étape\n",
    "prob_deb = 0.2 # Probabilité de rester dans le début de la grille à chaque initialisation\n",
    "dropout = 0 # Probabilité de disparition des sites\n",
    "coupe = 1 #Permet de cadrer la possibilité pour un électron de sortir de sa case, 0.5 pour rester dans sa case"
   ]
  },
  {
   "cell_type": "markdown",
   "metadata": {},
   "source": [
    "### Génération du bruit et des variables"
   ]
  },
  {
   "cell_type": "code",
   "execution_count": 6,
   "metadata": {},
   "outputs": [],
   "source": [
    "z = np.zeros((N,N,2)) # Deux grilles : l'une suit les abscisses, l'autre les ordonnées\n",
    "x = np.random.normal(0,sigma/2,size = (N,N))\n",
    "y = np.random.normal(0,sigma/2,size = (N,N))\n",
    "x = np.clip(x,-coupe,coupe) #On empêche les points de sortir de leur case\n",
    "y = np.clip(y,-coupe,coupe) #Idem\n",
    "bruit = np.stack((x,y),axis=-1) \n",
    "z += bruit #Génère le bruit gaussien\n",
    "\n",
    "electrons = np.full((N,N),fill_value=0) #Trace de la position des électrons à tout instant sur la grille\n",
    "traces = {i : [] for i in range(n_el_initial)} #Dictionnaire des chemins des électrons à une phase donnée\n",
    "chemins = {} #Dictionnaire des chemins (id) retenus avec leur poids en valeur\n",
    "table_id = {} #Dictionnaire qui à chaque id associe le chemin correspondant\n"
   ]
  },
  {
   "cell_type": "code",
   "execution_count": 7,
   "metadata": {},
   "outputs": [],
   "source": [
    "sites = np.random.choice([0, 1], size=(N, N), p=[dropout, 1 - dropout])\n",
    "#print(dropout_array)"
   ]
  },
  {
   "cell_type": "code",
   "execution_count": 8,
   "metadata": {},
   "outputs": [],
   "source": [
    "def reinitialise():\n",
    "    \"\"\"Permet de réinitialiser les paramètres entre deux modélisations\"\"\"\n",
    "    global x,y,z,electrons,bruit,traces,chemins, table_id, sites\n",
    "    z = np.zeros((N,N,2)) # Deux grilles : l'une suit les abscisses, l'autre les ordonnées\n",
    "    x = np.random.normal(0,sigma/2,size = (N,N))\n",
    "    y = np.random.normal(0,sigma/2,size = (N,N))\n",
    "    x = np.clip(x,-coupe,coupe) #On empêche les points de sortir de leur case\n",
    "    y = np.clip(y,-coupe,coupe) #Idem\n",
    "    bruit = np.stack((x,y),axis=-1) \n",
    "    z += bruit #Génère le bruit gaussien\n",
    "\n",
    "    electrons = np.full((N,N),fill_value=0) #Trace de la position des électrons à tout instant sur la grille\n",
    "    traces = {i : [] for i in range(n_el_initial)} #Dictionnaire des chemins des électrons à une phase donnée\n",
    "    chemins = {} #Dictionnaire des chemins retenus avec leur poids en valeur\n",
    "    table_id = {}\n",
    "    sites = np.random.choice([0, 1], size=(N, N), p=[dropout, 1 - dropout])\n"
   ]
  },
  {
   "cell_type": "markdown",
   "metadata": {},
   "source": [
    "### Fonctions d'affichage"
   ]
  },
  {
   "cell_type": "markdown",
   "metadata": {},
   "source": [
    "#### Affichage des QD"
   ]
  },
  {
   "cell_type": "code",
   "execution_count": 9,
   "metadata": {},
   "outputs": [],
   "source": [
    "def affiche_grille(z,fig,ax):\n",
    "    \"\"\"Affiche la position des QD sur la grille\n",
    "    Nécessite de préciser la figure et les axes sur lesquels on souhaite afficher pour pouvoir \n",
    "    superposer l'affichage des QD avec d'autres éventuellement ou faire des animations.\n",
    "    Voir affiche_grille_lazy sinon\"\"\"\n",
    "    N,_,_ = z.shape\n",
    "    ax.set_xticks(np.arange(0,N,1), labels = []) #Force le quadrillage à correspondre aux cases\n",
    "    ax.set_yticks(np.arange(0,N,1), labels = [])\n",
    "    for i in range(N):\n",
    "        for j in range(N):\n",
    "            if sites[i,j] == 1:\n",
    "                xc = i+0.5 + z[i,j,0]\n",
    "                yc = j+0.5 + z[i,j,1]\n",
    "                ax.scatter(xc,yc, color = \"red\")\n",
    "    ax.grid()"
   ]
  },
  {
   "cell_type": "code",
   "execution_count": 10,
   "metadata": {},
   "outputs": [],
   "source": [
    "def affiche_grille_lazy(z):\n",
    "    N,_,_ = z.shape\n",
    "    plt.xticks(np.arange(0,N,1), labels = [])\n",
    "    plt.yticks(np.arange(0,N,1), labels = [])\n",
    "    for i in range(N):\n",
    "        for j in range(N):\n",
    "            if sites[i,j]==1:\n",
    "                xc = i+0.5 + z[i,j,0]\n",
    "                yc = j+0.5 + z[i,j,1]\n",
    "                plt.scatter(xc,yc, color = \"red\")\n",
    "    plt.grid()"
   ]
  },
  {
   "cell_type": "code",
   "execution_count": 11,
   "metadata": {},
   "outputs": [
    {
     "data": {
      "image/png": "[encoded data removed]",
      "text/plain": [
       "<Figure size 640x480 with 1 Axes>"
      ]
     },
     "metadata": {},
     "output_type": "display_data"
    }
   ],
   "source": [
    "fig,ax = plt.subplots()\n",
    "affiche_grille(z,fig,ax)"
   ]
  },
  {
   "cell_type": "code",
   "execution_count": 12,
   "metadata": {},
   "outputs": [
    {
     "data": {
      "image/png": "[encoded data removed]",
      "text/plain": [
       "<Figure size 640x480 with 1 Axes>"
      ]
     },
     "metadata": {},
     "output_type": "display_data"
    }
   ],
   "source": [
    "affiche_grille_lazy(z)"
   ]
  },
  {
   "cell_type": "markdown",
   "metadata": {},
   "source": [
    "#### Affichage des électrons"
   ]
  },
  {
   "cell_type": "code",
   "execution_count": 13,
   "metadata": {},
   "outputs": [],
   "source": [
    "def affiche_electrons(electrons,fig,ax):\n",
    "    \"\"\"Affichage des électrons sur la grille\"\"\"\n",
    "    N,_ = electrons.shape\n",
    "    ax.set_xticks(np.arange(0,N+1,1), labels = [])\n",
    "    ax.set_yticks(np.arange(0,N+1,1), labels = [])\n",
    "    for i in range(N):\n",
    "        for j in range(N):\n",
    "            if electrons[i,j]>=1:\n",
    "                rect = patches.Rectangle((i, j), 1, 1, color='black', alpha=0.5) \n",
    "                ax.add_patch(rect)           \n",
    "    ax.grid()"
   ]
  },
  {
   "cell_type": "code",
   "execution_count": 14,
   "metadata": {},
   "outputs": [
    {
     "data": {
      "image/png": "[encoded data removed]",
      "text/plain": [
       "<Figure size 640x480 with 1 Axes>"
      ]
     },
     "metadata": {},
     "output_type": "display_data"
    }
   ],
   "source": [
    "fig,ax = plt.subplots()\n",
    "affiche_electrons(electrons,fig,ax)"
   ]
  },
  {
   "cell_type": "code",
   "execution_count": 15,
   "metadata": {},
   "outputs": [],
   "source": [
    "def affiche_electrons_lazy(electrons):\n",
    "    fig, ax = plt.subplots()\n",
    "    N,_ = electrons.shape\n",
    "    plt.xticks(np.arange(0,N+1,1), labels = [])\n",
    "    plt.yticks(np.arange(0,N+1,1), labels = [])\n",
    "    for i in range(N):\n",
    "        for j in range(N):\n",
    "            if electrons[i,j]>0:\n",
    "                rect = patches.Rectangle((i, j), 1, 1, color='black', alpha=0.5) \n",
    "                ax.add_patch(rect)           \n",
    "    plt.grid()"
   ]
  },
  {
   "cell_type": "code",
   "execution_count": 16,
   "metadata": {},
   "outputs": [
    {
     "data": {
      "image/png": "[encoded data removed]",
      "text/plain": [
       "<Figure size 640x480 with 1 Axes>"
      ]
     },
     "metadata": {},
     "output_type": "display_data"
    }
   ],
   "source": [
    "affiche_electrons_lazy(electrons)"
   ]
  },
  {
   "cell_type": "code",
   "execution_count": 44,
   "metadata": {},
   "outputs": [],
   "source": [
    "def heatmap(electrons):\n",
    "    \"\"\"Affiche la carte de chaleur des électrons sur la grille\"\"\"\n",
    "    plt.xticks(ticks=np.arange(electrons.shape[1]), labels=np.arange(electrons.shape[1]))\n",
    "    plt.yticks(ticks=np.arange(electrons.shape[0]), labels=np.arange(electrons.shape[0]))\n",
    "\n",
    "    # Tracer la heatmap\n",
    "    plt.imshow(electrons, cmap=plt.cm.Blues, vmin=1)  # vmin=1 pour que les valeurs 0 soient blanches\n",
    "    plt.colorbar()  # Ajouter une barre de couleur\n",
    "    plt.title('Carte des électrons')\n",
    "    plt.show()"
   ]
  },
  {
   "cell_type": "code",
   "execution_count": 43,
   "metadata": {},
   "outputs": [
    {
     "data": {
      "image/png": "[encoded data removed]",
      "text/plain": [
       "<Figure size 640x480 with 2 Axes>"
      ]
     },
     "metadata": {},
     "output_type": "display_data"
    }
   ],
   "source": [
    "heatmap(electrons)"
   ]
  },
  {
   "cell_type": "markdown",
   "metadata": {},
   "source": [
    "## Initialisation de la première étape"
   ]
  },
  {
   "cell_type": "code",
   "execution_count": 19,
   "metadata": {},
   "outputs": [],
   "source": [
    "def first_initialisation():\n",
    "    \"\"\"Initialise la position des électrons lors de la première passe\"\"\"\n",
    "    T = {}\n",
    "    for i in range(N):\n",
    "        trans = np.zeros(N,dtype=np.float32)\n",
    "        for j in range(N):\n",
    "            if sites[i,j]==1:\n",
    "                trans[j] = 1/abs(j-i+0.1) #Formule à modifier\n",
    "        if np.sum(trans)>0.:\n",
    "            trans /= np.sum(trans)\n",
    "        T[i] = trans\n",
    "    for electron in range(n_el_initial):\n",
    "        i = np.random.randint(0,N)\n",
    "        pos = np.random.choice(np.arange(N), p=T[i])\n",
    "        electrons[pos,0] += 1\n",
    "        traces[electron] = [(pos,0)]"
   ]
  },
  {
   "cell_type": "code",
   "execution_count": 46,
   "metadata": {},
   "outputs": [
    {
     "name": "stdout",
     "output_type": "stream",
     "text": [
      "[13 11  6 13 10 13 16  6  9  3]\n"
     ]
    },
    {
     "data": {
      "image/png": "[encoded data removed]",
      "text/plain": [
       "<Figure size 640x480 with 2 Axes>"
      ]
     },
     "metadata": {},
     "output_type": "display_data"
    }
   ],
   "source": [
    "reinitialise()\n",
    "first_initialisation()\n",
    "print(electrons[:,0])\n",
    "electrons[8,8]+=1\n",
    "heatmap(electrons)"
   ]
  },
  {
   "cell_type": "code",
   "execution_count": 21,
   "metadata": {},
   "outputs": [],
   "source": [
    "def initialise():\n",
    "    \"\"\"Initialise à partir du dictionnaire chemins.\n",
    "    On crée un array avec les probabilités d'être sur un des chemins donnés ou placés au début puis on tire par random sampling \n",
    "    les indices allant à chacune des catégories.\n",
    "    La répartition des électrons sur le chemin suit des lois exponentielles indépendantes (on pourrait aussi tester avec une loi de Poisson)\"\"\"\n",
    "    global electrons, chemins, table_id, traces, sites\n",
    "    probas = np.zeros(len(chemins)+1)\n",
    "    li_chemins = list(table_id.keys())\n",
    "    for (i,chemin) in enumerate(li_chemins):\n",
    "        probas[i] = chemins[i]\n",
    "    probas[len(chemins)] = prob_deb\n",
    "    probas /= np.sum(probas)\n",
    "    indices = np.random.choice(len(probas),n_el_initial,p=probas)\n",
    "    for i in indices:\n",
    "        if i == len(chemins):\n",
    "            T = {}\n",
    "            for i in range(N):\n",
    "                trans = np.zeros(N,dtype=np.float32)\n",
    "                for j in range(N):\n",
    "                    if sites[i,j]==1:\n",
    "                        trans[j] = 1/abs(j-i+0.1) #Formule à modifier\n",
    "                if np.sum(trans)>0.:\n",
    "                    trans /= np.sum(trans)\n",
    "                T[i] = trans\n",
    "            for electron in range(n_el_initial):\n",
    "                i = np.random.randint(0,N)\n",
    "                pos = np.random.choice(np.arange(N), p=T[i])\n",
    "                electrons[pos,0] += 1\n",
    "                traces[electron] = [(pos,0)]\n",
    "        else:\n",
    "            chemin = table_id[i]\n",
    "            weights = np.exp(-np.arange(len(chemin)))\n",
    "            weights /= np.sum(weights)\n",
    "            idx = np.random.choice(len(chemin), p=weights)\n",
    "            i, j = chemin[idx]\n",
    "            electrons[i, j] += 1\n",
    "            traces[i] = chemin[:idx+1]"
   ]
  },
  {
   "cell_type": "markdown",
   "metadata": {},
   "source": [
    "## Fonctions de transition"
   ]
  },
  {
   "cell_type": "markdown",
   "metadata": {},
   "source": [
    "### Calcul de toutes les probabilités"
   ]
  },
  {
   "cell_type": "markdown",
   "metadata": {},
   "source": [
    "On calcule, pour toute transition admissible, la transition $$T = \\frac{4 E \\phi }{4E\\phi + V_0^2 \\sinh{\\kappa \\Delta}}$$ avec $\\kappa = \\sqrt{\\frac{2m_e \\phi}{\\hbar^2}}$.\n",
    "\n",
    "Par décroissance linéaire, à l'abscisse $i$, $V_i = (1-\\frac{i}{N})V_0$ et donc la valeur moyenne sur une transition entre $i$ et $i+1$ est $2 V^* = \\frac{2N-2i-1}{N}V_0$"
   ]
  },
  {
   "cell_type": "code",
   "execution_count": 22,
   "metadata": {},
   "outputs": [],
   "source": [
    "def position_into_reality(i,j):\n",
    "    return a*(i+z[i,j,0]),a*(j+z[i,j,1])"
   ]
  },
  {
   "cell_type": "code",
   "execution_count": 23,
   "metadata": {},
   "outputs": [],
   "source": [
    "def distance(i,j,k,l):\n",
    "    xi,yi = position_into_reality(i,j)\n",
    "    xj,yj = position_into_reality(k,l)\n",
    "    return np.sqrt((xi-xj)**2 + (yi-yj)**2)"
   ]
  },
  {
   "cell_type": "code",
   "execution_count": 24,
   "metadata": {},
   "outputs": [
    {
     "data": {
      "text/plain": [
       "np.float64(7.459353706668116e-10)"
      ]
     },
     "execution_count": 24,
     "metadata": {},
     "output_type": "execute_result"
    }
   ],
   "source": [
    "distance(1,2,1,3)"
   ]
  },
  {
   "cell_type": "code",
   "execution_count": 25,
   "metadata": {},
   "outputs": [],
   "source": [
    "def calcul_probas(V,i,j):\n",
    "    droite,gauche,haut,bas = 0.,0.,0.,0.\n",
    "    phi = 2*1.60217662e-19\n",
    "    if j<N-1:\n",
    "        if j+1<N and sites[i,j+1] == 1:\n",
    "            haut = 3\n",
    "        if j>0 and sites[i,j-1] == 1:\n",
    "            bas = 1\n",
    "        if i+1<N and sites[i+1,j] == 1:\n",
    "            droite = 1.5\n",
    "        if i>0 and sites[i-1,j] == 1:\n",
    "            gauche = 1.5\n",
    "        sum = droite + gauche + haut + bas\n",
    "        if sum==0:\n",
    "            return 0.,0.,0.,0.\n",
    "        else:\n",
    "            return droite/sum,gauche/sum,haut/sum,bas/sum\n",
    "    else:\n",
    "        return 0.,0.,0.,0.    "
   ]
  },
  {
   "cell_type": "code",
   "execution_count": 26,
   "metadata": {},
   "outputs": [
    {
     "data": {
      "text/plain": [
       "(0.21428571428571427,\n",
       " 0.21428571428571427,\n",
       " 0.42857142857142855,\n",
       " 0.14285714285714285)"
      ]
     },
     "execution_count": 26,
     "metadata": {},
     "output_type": "execute_result"
    }
   ],
   "source": [
    "calcul_probas(30,8,8)"
   ]
  },
  {
   "cell_type": "code",
   "execution_count": 27,
   "metadata": {},
   "outputs": [],
   "source": [
    "def calcule_all_probas(V):\n",
    "    probas = {}\n",
    "    for i in range(N):\n",
    "        for j in range(N):\n",
    "            probas[i,j] = calcul_probas(V,i,j)\n",
    "    return probas"
   ]
  },
  {
   "cell_type": "code",
   "execution_count": 28,
   "metadata": {},
   "outputs": [
    {
     "name": "stdout",
     "output_type": "stream",
     "text": [
      "Case (0, 0) :\n",
      "Droite : 0.3333333333333333\n",
      "Gauche : 0.0\n",
      "Haut : 0.6666666666666666\n",
      "Bas : 0.0\n",
      "Case (0, 1) :\n",
      "Droite : 0.2727272727272727\n",
      "Gauche : 0.0\n",
      "Haut : 0.5454545454545454\n",
      "Bas : 0.18181818181818182\n",
      "Case (0, 2) :\n",
      "Droite : 0.2727272727272727\n",
      "Gauche : 0.0\n",
      "Haut : 0.5454545454545454\n",
      "Bas : 0.18181818181818182\n",
      "Case (0, 3) :\n",
      "Droite : 0.2727272727272727\n",
      "Gauche : 0.0\n",
      "Haut : 0.5454545454545454\n",
      "Bas : 0.18181818181818182\n",
      "Case (0, 4) :\n",
      "Droite : 0.2727272727272727\n",
      "Gauche : 0.0\n",
      "Haut : 0.5454545454545454\n",
      "Bas : 0.18181818181818182\n",
      "Case (0, 5) :\n",
      "Droite : 0.2727272727272727\n",
      "Gauche : 0.0\n",
      "Haut : 0.5454545454545454\n",
      "Bas : 0.18181818181818182\n",
      "Case (0, 6) :\n",
      "Droite : 0.2727272727272727\n",
      "Gauche : 0.0\n",
      "Haut : 0.5454545454545454\n",
      "Bas : 0.18181818181818182\n",
      "Case (0, 7) :\n",
      "Droite : 0.2727272727272727\n",
      "Gauche : 0.0\n",
      "Haut : 0.5454545454545454\n",
      "Bas : 0.18181818181818182\n",
      "Case (0, 8) :\n",
      "Droite : 0.2727272727272727\n",
      "Gauche : 0.0\n",
      "Haut : 0.5454545454545454\n",
      "Bas : 0.18181818181818182\n",
      "Case (0, 9) :\n",
      "Droite : 0.0\n",
      "Gauche : 0.0\n",
      "Haut : 0.0\n",
      "Bas : 0.0\n",
      "Case (1, 0) :\n",
      "Droite : 0.25\n",
      "Gauche : 0.25\n",
      "Haut : 0.5\n",
      "Bas : 0.0\n",
      "Case (1, 1) :\n",
      "Droite : 0.21428571428571427\n",
      "Gauche : 0.21428571428571427\n",
      "Haut : 0.42857142857142855\n",
      "Bas : 0.14285714285714285\n",
      "Case (1, 2) :\n",
      "Droite : 0.21428571428571427\n",
      "Gauche : 0.21428571428571427\n",
      "Haut : 0.42857142857142855\n",
      "Bas : 0.14285714285714285\n",
      "Case (1, 3) :\n",
      "Droite : 0.21428571428571427\n",
      "Gauche : 0.21428571428571427\n",
      "Haut : 0.42857142857142855\n",
      "Bas : 0.14285714285714285\n",
      "Case (1, 4) :\n",
      "Droite : 0.21428571428571427\n",
      "Gauche : 0.21428571428571427\n",
      "Haut : 0.42857142857142855\n",
      "Bas : 0.14285714285714285\n",
      "Case (1, 5) :\n",
      "Droite : 0.21428571428571427\n",
      "Gauche : 0.21428571428571427\n",
      "Haut : 0.42857142857142855\n",
      "Bas : 0.14285714285714285\n",
      "Case (1, 6) :\n",
      "Droite : 0.21428571428571427\n",
      "Gauche : 0.21428571428571427\n",
      "Haut : 0.42857142857142855\n",
      "Bas : 0.14285714285714285\n",
      "Case (1, 7) :\n",
      "Droite : 0.21428571428571427\n",
      "Gauche : 0.21428571428571427\n",
      "Haut : 0.42857142857142855\n",
      "Bas : 0.14285714285714285\n",
      "Case (1, 8) :\n",
      "Droite : 0.21428571428571427\n",
      "Gauche : 0.21428571428571427\n",
      "Haut : 0.42857142857142855\n",
      "Bas : 0.14285714285714285\n",
      "Case (1, 9) :\n",
      "Droite : 0.0\n",
      "Gauche : 0.0\n",
      "Haut : 0.0\n",
      "Bas : 0.0\n",
      "Case (2, 0) :\n",
      "Droite : 0.25\n",
      "Gauche : 0.25\n",
      "Haut : 0.5\n",
      "Bas : 0.0\n",
      "Case (2, 1) :\n",
      "Droite : 0.21428571428571427\n",
      "Gauche : 0.21428571428571427\n",
      "Haut : 0.42857142857142855\n",
      "Bas : 0.14285714285714285\n",
      "Case (2, 2) :\n",
      "Droite : 0.21428571428571427\n",
      "Gauche : 0.21428571428571427\n",
      "Haut : 0.42857142857142855\n",
      "Bas : 0.14285714285714285\n",
      "Case (2, 3) :\n",
      "Droite : 0.21428571428571427\n",
      "Gauche : 0.21428571428571427\n",
      "Haut : 0.42857142857142855\n",
      "Bas : 0.14285714285714285\n",
      "Case (2, 4) :\n",
      "Droite : 0.21428571428571427\n",
      "Gauche : 0.21428571428571427\n",
      "Haut : 0.42857142857142855\n",
      "Bas : 0.14285714285714285\n",
      "Case (2, 5) :\n",
      "Droite : 0.21428571428571427\n",
      "Gauche : 0.21428571428571427\n",
      "Haut : 0.42857142857142855\n",
      "Bas : 0.14285714285714285\n",
      "Case (2, 6) :\n",
      "Droite : 0.21428571428571427\n",
      "Gauche : 0.21428571428571427\n",
      "Haut : 0.42857142857142855\n",
      "Bas : 0.14285714285714285\n",
      "Case (2, 7) :\n",
      "Droite : 0.21428571428571427\n",
      "Gauche : 0.21428571428571427\n",
      "Haut : 0.42857142857142855\n",
      "Bas : 0.14285714285714285\n",
      "Case (2, 8) :\n",
      "Droite : 0.21428571428571427\n",
      "Gauche : 0.21428571428571427\n",
      "Haut : 0.42857142857142855\n",
      "Bas : 0.14285714285714285\n",
      "Case (2, 9) :\n",
      "Droite : 0.0\n",
      "Gauche : 0.0\n",
      "Haut : 0.0\n",
      "Bas : 0.0\n",
      "Case (3, 0) :\n",
      "Droite : 0.25\n",
      "Gauche : 0.25\n",
      "Haut : 0.5\n",
      "Bas : 0.0\n",
      "Case (3, 1) :\n",
      "Droite : 0.21428571428571427\n",
      "Gauche : 0.21428571428571427\n",
      "Haut : 0.42857142857142855\n",
      "Bas : 0.14285714285714285\n",
      "Case (3, 2) :\n",
      "Droite : 0.21428571428571427\n",
      "Gauche : 0.21428571428571427\n",
      "Haut : 0.42857142857142855\n",
      "Bas : 0.14285714285714285\n",
      "Case (3, 3) :\n",
      "Droite : 0.21428571428571427\n",
      "Gauche : 0.21428571428571427\n",
      "Haut : 0.42857142857142855\n",
      "Bas : 0.14285714285714285\n",
      "Case (3, 4) :\n",
      "Droite : 0.21428571428571427\n",
      "Gauche : 0.21428571428571427\n",
      "Haut : 0.42857142857142855\n",
      "Bas : 0.14285714285714285\n",
      "Case (3, 5) :\n",
      "Droite : 0.21428571428571427\n",
      "Gauche : 0.21428571428571427\n",
      "Haut : 0.42857142857142855\n",
      "Bas : 0.14285714285714285\n",
      "Case (3, 6) :\n",
      "Droite : 0.21428571428571427\n",
      "Gauche : 0.21428571428571427\n",
      "Haut : 0.42857142857142855\n",
      "Bas : 0.14285714285714285\n",
      "Case (3, 7) :\n",
      "Droite : 0.21428571428571427\n",
      "Gauche : 0.21428571428571427\n",
      "Haut : 0.42857142857142855\n",
      "Bas : 0.14285714285714285\n",
      "Case (3, 8) :\n",
      "Droite : 0.21428571428571427\n",
      "Gauche : 0.21428571428571427\n",
      "Haut : 0.42857142857142855\n",
      "Bas : 0.14285714285714285\n",
      "Case (3, 9) :\n",
      "Droite : 0.0\n",
      "Gauche : 0.0\n",
      "Haut : 0.0\n",
      "Bas : 0.0\n",
      "Case (4, 0) :\n",
      "Droite : 0.25\n",
      "Gauche : 0.25\n",
      "Haut : 0.5\n",
      "Bas : 0.0\n",
      "Case (4, 1) :\n",
      "Droite : 0.21428571428571427\n",
      "Gauche : 0.21428571428571427\n",
      "Haut : 0.42857142857142855\n",
      "Bas : 0.14285714285714285\n",
      "Case (4, 2) :\n",
      "Droite : 0.21428571428571427\n",
      "Gauche : 0.21428571428571427\n",
      "Haut : 0.42857142857142855\n",
      "Bas : 0.14285714285714285\n",
      "Case (4, 3) :\n",
      "Droite : 0.21428571428571427\n",
      "Gauche : 0.21428571428571427\n",
      "Haut : 0.42857142857142855\n",
      "Bas : 0.14285714285714285\n",
      "Case (4, 4) :\n",
      "Droite : 0.21428571428571427\n",
      "Gauche : 0.21428571428571427\n",
      "Haut : 0.42857142857142855\n",
      "Bas : 0.14285714285714285\n",
      "Case (4, 5) :\n",
      "Droite : 0.21428571428571427\n",
      "Gauche : 0.21428571428571427\n",
      "Haut : 0.42857142857142855\n",
      "Bas : 0.14285714285714285\n",
      "Case (4, 6) :\n",
      "Droite : 0.21428571428571427\n",
      "Gauche : 0.21428571428571427\n",
      "Haut : 0.42857142857142855\n",
      "Bas : 0.14285714285714285\n",
      "Case (4, 7) :\n",
      "Droite : 0.21428571428571427\n",
      "Gauche : 0.21428571428571427\n",
      "Haut : 0.42857142857142855\n",
      "Bas : 0.14285714285714285\n",
      "Case (4, 8) :\n",
      "Droite : 0.21428571428571427\n",
      "Gauche : 0.21428571428571427\n",
      "Haut : 0.42857142857142855\n",
      "Bas : 0.14285714285714285\n",
      "Case (4, 9) :\n",
      "Droite : 0.0\n",
      "Gauche : 0.0\n",
      "Haut : 0.0\n",
      "Bas : 0.0\n",
      "Case (5, 0) :\n",
      "Droite : 0.25\n",
      "Gauche : 0.25\n",
      "Haut : 0.5\n",
      "Bas : 0.0\n",
      "Case (5, 1) :\n",
      "Droite : 0.21428571428571427\n",
      "Gauche : 0.21428571428571427\n",
      "Haut : 0.42857142857142855\n",
      "Bas : 0.14285714285714285\n",
      "Case (5, 2) :\n",
      "Droite : 0.21428571428571427\n",
      "Gauche : 0.21428571428571427\n",
      "Haut : 0.42857142857142855\n",
      "Bas : 0.14285714285714285\n",
      "Case (5, 3) :\n",
      "Droite : 0.21428571428571427\n",
      "Gauche : 0.21428571428571427\n",
      "Haut : 0.42857142857142855\n",
      "Bas : 0.14285714285714285\n",
      "Case (5, 4) :\n",
      "Droite : 0.21428571428571427\n",
      "Gauche : 0.21428571428571427\n",
      "Haut : 0.42857142857142855\n",
      "Bas : 0.14285714285714285\n",
      "Case (5, 5) :\n",
      "Droite : 0.21428571428571427\n",
      "Gauche : 0.21428571428571427\n",
      "Haut : 0.42857142857142855\n",
      "Bas : 0.14285714285714285\n",
      "Case (5, 6) :\n",
      "Droite : 0.21428571428571427\n",
      "Gauche : 0.21428571428571427\n",
      "Haut : 0.42857142857142855\n",
      "Bas : 0.14285714285714285\n",
      "Case (5, 7) :\n",
      "Droite : 0.21428571428571427\n",
      "Gauche : 0.21428571428571427\n",
      "Haut : 0.42857142857142855\n",
      "Bas : 0.14285714285714285\n",
      "Case (5, 8) :\n",
      "Droite : 0.21428571428571427\n",
      "Gauche : 0.21428571428571427\n",
      "Haut : 0.42857142857142855\n",
      "Bas : 0.14285714285714285\n",
      "Case (5, 9) :\n",
      "Droite : 0.0\n",
      "Gauche : 0.0\n",
      "Haut : 0.0\n",
      "Bas : 0.0\n",
      "Case (6, 0) :\n",
      "Droite : 0.25\n",
      "Gauche : 0.25\n",
      "Haut : 0.5\n",
      "Bas : 0.0\n",
      "Case (6, 1) :\n",
      "Droite : 0.21428571428571427\n",
      "Gauche : 0.21428571428571427\n",
      "Haut : 0.42857142857142855\n",
      "Bas : 0.14285714285714285\n",
      "Case (6, 2) :\n",
      "Droite : 0.21428571428571427\n",
      "Gauche : 0.21428571428571427\n",
      "Haut : 0.42857142857142855\n",
      "Bas : 0.14285714285714285\n",
      "Case (6, 3) :\n",
      "Droite : 0.21428571428571427\n",
      "Gauche : 0.21428571428571427\n",
      "Haut : 0.42857142857142855\n",
      "Bas : 0.14285714285714285\n",
      "Case (6, 4) :\n",
      "Droite : 0.21428571428571427\n",
      "Gauche : 0.21428571428571427\n",
      "Haut : 0.42857142857142855\n",
      "Bas : 0.14285714285714285\n",
      "Case (6, 5) :\n",
      "Droite : 0.21428571428571427\n",
      "Gauche : 0.21428571428571427\n",
      "Haut : 0.42857142857142855\n",
      "Bas : 0.14285714285714285\n",
      "Case (6, 6) :\n",
      "Droite : 0.21428571428571427\n",
      "Gauche : 0.21428571428571427\n",
      "Haut : 0.42857142857142855\n",
      "Bas : 0.14285714285714285\n",
      "Case (6, 7) :\n",
      "Droite : 0.21428571428571427\n",
      "Gauche : 0.21428571428571427\n",
      "Haut : 0.42857142857142855\n",
      "Bas : 0.14285714285714285\n",
      "Case (6, 8) :\n",
      "Droite : 0.21428571428571427\n",
      "Gauche : 0.21428571428571427\n",
      "Haut : 0.42857142857142855\n",
      "Bas : 0.14285714285714285\n",
      "Case (6, 9) :\n",
      "Droite : 0.0\n",
      "Gauche : 0.0\n",
      "Haut : 0.0\n",
      "Bas : 0.0\n",
      "Case (7, 0) :\n",
      "Droite : 0.25\n",
      "Gauche : 0.25\n",
      "Haut : 0.5\n",
      "Bas : 0.0\n",
      "Case (7, 1) :\n",
      "Droite : 0.21428571428571427\n",
      "Gauche : 0.21428571428571427\n",
      "Haut : 0.42857142857142855\n",
      "Bas : 0.14285714285714285\n",
      "Case (7, 2) :\n",
      "Droite : 0.21428571428571427\n",
      "Gauche : 0.21428571428571427\n",
      "Haut : 0.42857142857142855\n",
      "Bas : 0.14285714285714285\n",
      "Case (7, 3) :\n",
      "Droite : 0.21428571428571427\n",
      "Gauche : 0.21428571428571427\n",
      "Haut : 0.42857142857142855\n",
      "Bas : 0.14285714285714285\n",
      "Case (7, 4) :\n",
      "Droite : 0.21428571428571427\n",
      "Gauche : 0.21428571428571427\n",
      "Haut : 0.42857142857142855\n",
      "Bas : 0.14285714285714285\n",
      "Case (7, 5) :\n",
      "Droite : 0.21428571428571427\n",
      "Gauche : 0.21428571428571427\n",
      "Haut : 0.42857142857142855\n",
      "Bas : 0.14285714285714285\n",
      "Case (7, 6) :\n",
      "Droite : 0.21428571428571427\n",
      "Gauche : 0.21428571428571427\n",
      "Haut : 0.42857142857142855\n",
      "Bas : 0.14285714285714285\n",
      "Case (7, 7) :\n",
      "Droite : 0.21428571428571427\n",
      "Gauche : 0.21428571428571427\n",
      "Haut : 0.42857142857142855\n",
      "Bas : 0.14285714285714285\n",
      "Case (7, 8) :\n",
      "Droite : 0.21428571428571427\n",
      "Gauche : 0.21428571428571427\n",
      "Haut : 0.42857142857142855\n",
      "Bas : 0.14285714285714285\n",
      "Case (7, 9) :\n",
      "Droite : 0.0\n",
      "Gauche : 0.0\n",
      "Haut : 0.0\n",
      "Bas : 0.0\n",
      "Case (8, 0) :\n",
      "Droite : 0.25\n",
      "Gauche : 0.25\n",
      "Haut : 0.5\n",
      "Bas : 0.0\n",
      "Case (8, 1) :\n",
      "Droite : 0.21428571428571427\n",
      "Gauche : 0.21428571428571427\n",
      "Haut : 0.42857142857142855\n",
      "Bas : 0.14285714285714285\n",
      "Case (8, 2) :\n",
      "Droite : 0.21428571428571427\n",
      "Gauche : 0.21428571428571427\n",
      "Haut : 0.42857142857142855\n",
      "Bas : 0.14285714285714285\n",
      "Case (8, 3) :\n",
      "Droite : 0.21428571428571427\n",
      "Gauche : 0.21428571428571427\n",
      "Haut : 0.42857142857142855\n",
      "Bas : 0.14285714285714285\n",
      "Case (8, 4) :\n",
      "Droite : 0.21428571428571427\n",
      "Gauche : 0.21428571428571427\n",
      "Haut : 0.42857142857142855\n",
      "Bas : 0.14285714285714285\n",
      "Case (8, 5) :\n",
      "Droite : 0.21428571428571427\n",
      "Gauche : 0.21428571428571427\n",
      "Haut : 0.42857142857142855\n",
      "Bas : 0.14285714285714285\n",
      "Case (8, 6) :\n",
      "Droite : 0.21428571428571427\n",
      "Gauche : 0.21428571428571427\n",
      "Haut : 0.42857142857142855\n",
      "Bas : 0.14285714285714285\n",
      "Case (8, 7) :\n",
      "Droite : 0.21428571428571427\n",
      "Gauche : 0.21428571428571427\n",
      "Haut : 0.42857142857142855\n",
      "Bas : 0.14285714285714285\n",
      "Case (8, 8) :\n",
      "Droite : 0.21428571428571427\n",
      "Gauche : 0.21428571428571427\n",
      "Haut : 0.42857142857142855\n",
      "Bas : 0.14285714285714285\n",
      "Case (8, 9) :\n",
      "Droite : 0.0\n",
      "Gauche : 0.0\n",
      "Haut : 0.0\n",
      "Bas : 0.0\n",
      "Case (9, 0) :\n",
      "Droite : 0.0\n",
      "Gauche : 0.3333333333333333\n",
      "Haut : 0.6666666666666666\n",
      "Bas : 0.0\n",
      "Case (9, 1) :\n",
      "Droite : 0.0\n",
      "Gauche : 0.2727272727272727\n",
      "Haut : 0.5454545454545454\n",
      "Bas : 0.18181818181818182\n",
      "Case (9, 2) :\n",
      "Droite : 0.0\n",
      "Gauche : 0.2727272727272727\n",
      "Haut : 0.5454545454545454\n",
      "Bas : 0.18181818181818182\n",
      "Case (9, 3) :\n",
      "Droite : 0.0\n",
      "Gauche : 0.2727272727272727\n",
      "Haut : 0.5454545454545454\n",
      "Bas : 0.18181818181818182\n",
      "Case (9, 4) :\n",
      "Droite : 0.0\n",
      "Gauche : 0.2727272727272727\n",
      "Haut : 0.5454545454545454\n",
      "Bas : 0.18181818181818182\n",
      "Case (9, 5) :\n",
      "Droite : 0.0\n",
      "Gauche : 0.2727272727272727\n",
      "Haut : 0.5454545454545454\n",
      "Bas : 0.18181818181818182\n",
      "Case (9, 6) :\n",
      "Droite : 0.0\n",
      "Gauche : 0.2727272727272727\n",
      "Haut : 0.5454545454545454\n",
      "Bas : 0.18181818181818182\n",
      "Case (9, 7) :\n",
      "Droite : 0.0\n",
      "Gauche : 0.2727272727272727\n",
      "Haut : 0.5454545454545454\n",
      "Bas : 0.18181818181818182\n",
      "Case (9, 8) :\n",
      "Droite : 0.0\n",
      "Gauche : 0.2727272727272727\n",
      "Haut : 0.5454545454545454\n",
      "Bas : 0.18181818181818182\n",
      "Case (9, 9) :\n",
      "Droite : 0.0\n",
      "Gauche : 0.0\n",
      "Haut : 0.0\n",
      "Bas : 0.0\n"
     ]
    }
   ],
   "source": [
    "print_test = calcule_all_probas(40.)\n",
    "for i in range(N):\n",
    "    for j in range(N):\n",
    "        if sites[i,j] == 1:\n",
    "            print(f\"Case {i,j} :\")\n",
    "            print(f\"Droite : {print_test[i,j][0]}\")\n",
    "            print(f\"Gauche : {print_test[i,j][1]}\")\n",
    "            print(f\"Haut : {print_test[i,j][2]}\")\n",
    "            print(f\"Bas : {print_test[i,j][3]}\")"
   ]
  },
  {
   "cell_type": "markdown",
   "metadata": {},
   "source": [
    "### Une transition markovienne"
   ]
  },
  {
   "cell_type": "code",
   "execution_count": 29,
   "metadata": {},
   "outputs": [],
   "source": [
    "def deplace(V,k,probas):\n",
    "    global traces, electrons, sites\n",
    "    i,j = traces[k][-1]\n",
    "    if j < N-1:\n",
    "        probas = probas[i,j]\n",
    "        if sum(probas)>0:\n",
    "            directions = np.random.choice([\"droite\",\"gauche\",\"haut\",\"bas\"],p=probas)\n",
    "            if directions == \"droite\":\n",
    "                new_i,new_j = i+1,j\n",
    "            elif directions == \"gauche\":\n",
    "                new_i,new_j = i-1,j\n",
    "            elif directions == \"haut\":\n",
    "                new_i,new_j = i,j+1\n",
    "            else:\n",
    "                new_i,new_j = i,j-1\n",
    "            electrons[i,j] -= 1\n",
    "            electrons[new_i,new_j] += 1\n",
    "            traces[k].append((new_i,new_j))"
   ]
  },
  {
   "cell_type": "code",
   "execution_count": 30,
   "metadata": {},
   "outputs": [],
   "source": [
    "def transition(V):\n",
    "    probas = calcule_all_probas(V)\n",
    "    for k in range(n_el_initial):\n",
    "        deplace(V,k,probas)"
   ]
  },
  {
   "cell_type": "code",
   "execution_count": 31,
   "metadata": {},
   "outputs": [
    {
     "name": "stdout",
     "output_type": "stream",
     "text": [
      "[[ 6  9  0  0  0  0  0  0  0  0]\n",
      " [ 8  3  0  0  0  0  0  0  0  0]\n",
      " [ 3 10  0  0  0  0  0  0  0  0]\n",
      " [ 5  6  0  0  0  0  0  0  0  0]\n",
      " [ 3  4  0  0  0  0  0  0  0  0]\n",
      " [ 6  4  0  0  0  0  0  0  0  0]\n",
      " [10  3  0  0  0  0  0  0  0  0]\n",
      " [ 4  5  0  0  0  0  0  0  0  0]\n",
      " [ 3  0  0  0  0  0  0  0  1  0]\n",
      " [ 1  7  0  0  0  0  0  0  0  0]]\n"
     ]
    },
    {
     "data": {
      "image/png": "[encoded data removed]",
      "text/plain": [
       "<Figure size 640x480 with 1 Axes>"
      ]
     },
     "metadata": {},
     "output_type": "display_data"
    }
   ],
   "source": [
    "#reinitialise()\n",
    "#first_initialisation()\n",
    "transition(4.)\n",
    "print(electrons)\n",
    "affiche_electrons_lazy(electrons)"
   ]
  },
  {
   "cell_type": "markdown",
   "metadata": {},
   "source": [
    "## Réalisation d'une étape complète"
   ]
  },
  {
   "cell_type": "code",
   "execution_count": 32,
   "metadata": {},
   "outputs": [],
   "source": [
    "def levenshtein_distance(chem1,chem2):\n",
    "    \"\"\"Calcule la distance de Levenshtein, sera remplacée par des métriques plus adéquates\"\"\"\n",
    "    l1 = len(chem1)\n",
    "    l2 = len(chem2)\n",
    "    set1 = set(chem1)\n",
    "    set2 = set(chem2)\n",
    "    inter = set1&set2\n",
    "    union = set1 | set2\n",
    "    return len(inter)/len(union)"
   ]
  },
  {
   "cell_type": "code",
   "execution_count": 33,
   "metadata": {},
   "outputs": [],
   "source": [
    "def dist_matrix(dico,N=N):\n",
    "    \"\"\"Calcule des matrices de distance\"\"\"\n",
    "    mat = np.zeros((N,N),dtype = np.float64)\n",
    "    for i in range(N):\n",
    "        for j in range(i):\n",
    "            d = levenshtein_distance(dico[i],dico[j])\n",
    "            mat[i,j] = d\n",
    "            mat[j,i] = d\n",
    "    return mat\n",
    "\n",
    "def calcule_poids(ensemble, dico):\n",
    "    jmin = min(ensemble, key = lambda i : len(dico[i]))\n",
    "    return dico[jmin], len(dico[jmin])  "
   ]
  },
  {
   "cell_type": "code",
   "execution_count": 34,
   "metadata": {},
   "outputs": [
    {
     "data": {
      "text/plain": [
       "0.2"
      ]
     },
     "execution_count": 34,
     "metadata": {},
     "output_type": "execute_result"
    }
   ],
   "source": [
    "levenshtein_distance([1,2,3],[3,4,5])"
   ]
  },
  {
   "cell_type": "code",
   "execution_count": 35,
   "metadata": {},
   "outputs": [],
   "source": [
    "def reunion_chemins(dico,threshold=0.5,N=N):\n",
    "    dist_mat = dist_matrix(dico,N=N)\n",
    "    disjoint_set = DisjointSet(range(N))\n",
    "    edges = [(i,j) for i in range(N) for j in range(N)]\n",
    "    edges.sort(key = lambda x : dist_mat[x[0],x[1]], reverse=True)\n",
    "    for edge in edges:\n",
    "        if dist_mat[edge[0],edge[1]]<=threshold:\n",
    "            return disjoint_set.subsets()\n",
    "        _ = disjoint_set.merge(edge[0],edge[1])\n",
    "    return disjoint_set.subsets()"
   ]
  },
  {
   "cell_type": "code",
   "execution_count": 36,
   "metadata": {},
   "outputs": [
    {
     "name": "stdout",
     "output_type": "stream",
     "text": [
      "[[0.  0.2 0.5]\n",
      " [0.2 0.  0. ]\n",
      " [0.5 0.  0. ]]\n"
     ]
    },
    {
     "data": {
      "text/plain": [
       "[{0}, {1}, {2}]"
      ]
     },
     "execution_count": 36,
     "metadata": {},
     "output_type": "execute_result"
    }
   ],
   "source": [
    "dico = {0:[1,2,3],1:[3,4,5],2:[1,2,6]}\n",
    "print(dist_matrix(dico,N=3))\n",
    "reunion_chemins(dico,N=3)"
   ]
  },
  {
   "cell_type": "code",
   "execution_count": 37,
   "metadata": {},
   "outputs": [],
   "source": [
    "def etape(V,first = False):\n",
    "    global chemins\n",
    "    if first:\n",
    "        first_initialisation()\n",
    "    else:\n",
    "        initialise()\n",
    "    for _ in range(N_iterations):\n",
    "        transition(V)\n",
    "    chemins.clear()\n",
    "    table_id.clear()\n",
    "    subsets = reunion_chemins(traces)\n",
    "    k=0\n",
    "    for ensemble in subsets:\n",
    "        repr,poids = calcule_poids(ensemble, traces)\n",
    "        table_id[k] = repr\n",
    "        chemins[k] = poids\n",
    "        k+=1"
   ]
  },
  {
   "cell_type": "markdown",
   "metadata": {},
   "source": [
    "## Modélisation de l'ensemble"
   ]
  },
  {
   "cell_type": "code",
   "execution_count": 47,
   "metadata": {},
   "outputs": [],
   "source": [
    "def simulation(array_V):\n",
    "    reinitialise()\n",
    "    for (i,v) in enumerate(array_V):\n",
    "        etape(v, first = (i==0))\n",
    "        heatmap(electrons)"
   ]
  },
  {
   "cell_type": "code",
   "execution_count": 49,
   "metadata": {},
   "outputs": [
    {
     "data": {
      "image/png": "[encoded data removed]",
      "text/plain": [
       "<Figure size 640x480 with 2 Axes>"
      ]
     },
     "metadata": {},
     "output_type": "display_data"
    },
    {
     "data": {
      "image/png": "[encoded data removed]",
      "text/plain": [
       "<Figure size 640x480 with 2 Axes>"
      ]
     },
     "metadata": {},
     "output_type": "display_data"
    },
    {
     "data": {
      "image/png": "[encoded data removed]",
      "text/plain": [
       "<Figure size 640x480 with 2 Axes>"
      ]
     },
     "metadata": {},
     "output_type": "display_data"
    }
   ],
   "source": [
    "array_V = [10,11,12]\n",
    "simulation(array_V)"
   ]
  }
 ],
 "metadata": {
  "kernelspec": {
   "display_name": "envPSC",
   "language": "python",
   "name": "python3"
  },
  "language_info": {
   "codemirror_mode": {
    "name": "ipython",
    "version": 3
   },
   "file_extension": ".py",
   "mimetype": "text/x-python",
   "name": "python",
   "nbconvert_exporter": "python",
   "pygments_lexer": "ipython3",
   "version": "3.13.1"
  }
 },
 "nbformat": 4,
 "nbformat_minor": 2
}
